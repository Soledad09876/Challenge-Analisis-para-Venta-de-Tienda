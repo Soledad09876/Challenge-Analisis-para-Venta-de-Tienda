{
  "nbformat": 4,
  "nbformat_minor": 0,
  "metadata": {
    "colab": {
      "provenance": [],
      "include_colab_link": true
    },
    "kernelspec": {
      "name": "python3",
      "display_name": "Python 3"
    },
    "language_info": {
      "name": "python"
    }
  },
  "cells": [
    {
      "cell_type": "markdown",
      "metadata": {
        "id": "view-in-github",
        "colab_type": "text"
      },
      "source": [
        "<a href=\"https://colab.research.google.com/github/Soledad09876/Challenge-Analisis-para-Venta-de-Tienda/blob/main/AluraStoreLatamChallengeAnalisisParaVenta.ipynb\" target=\"_parent\"><img src=\"https://colab.research.google.com/assets/colab-badge.svg\" alt=\"Open In Colab\"/></a>"
      ]
    },
    {
      "cell_type": "markdown",
      "source": [
        "### Importación de datos\n",
        "\n"
      ],
      "metadata": {
        "id": "RhEdWd9YUR6H"
      }
    },
    {
      "cell_type": "code",
      "execution_count": 1,
      "metadata": {
        "colab": {
          "base_uri": "https://localhost:8080/",
          "height": 362
        },
        "id": "T3EvaeQ_INIL",
        "outputId": "53ed51c0-0cb9-4c27-94f9-0042dcae9741"
      },
      "outputs": [
        {
          "output_type": "execute_result",
          "data": {
            "text/plain": [
              "            Producto Categoría del Producto    Precio  Costo de envío  \\\n",
              "0  Asistente virtual           Electrónicos  164300.0          6900.0   \n",
              "1    Mesa de comedor                Muebles  192300.0          8400.0   \n",
              "2      Juego de mesa               Juguetes  209600.0         15900.0   \n",
              "3         Microondas      Electrodomésticos  757500.0         41000.0   \n",
              "4   Silla de oficina                Muebles  335200.0         20200.0   \n",
              "\n",
              "  Fecha de Compra         Vendedor Lugar de Compra  Calificación  \\\n",
              "0      16/01/2021      Pedro Gomez          Bogotá             4   \n",
              "1      18/05/2022  Beatriz Morales        Medellín             1   \n",
              "2      15/03/2021   Juan Fernandez       Cartagena             1   \n",
              "3      03/05/2022   Juan Fernandez            Cali             4   \n",
              "4      07/11/2020    Maria Alfonso        Medellín             5   \n",
              "\n",
              "       Método de pago  Cantidad de cuotas       lat       lon  \n",
              "0  Tarjeta de crédito                   8   4.60971 -74.08175  \n",
              "1  Tarjeta de crédito                   4   6.25184 -75.56359  \n",
              "2  Tarjeta de crédito                   1  10.39972 -75.51444  \n",
              "3               Nequi                   1   3.43722 -76.52250  \n",
              "4               Nequi                   1   6.25184 -75.56359  "
            ],
            "text/html": [
              "\n",
              "  <div id=\"df-d55e1dcb-0221-4349-8391-30c38f4a57dd\" class=\"colab-df-container\">\n",
              "    <div>\n",
              "<style scoped>\n",
              "    .dataframe tbody tr th:only-of-type {\n",
              "        vertical-align: middle;\n",
              "    }\n",
              "\n",
              "    .dataframe tbody tr th {\n",
              "        vertical-align: top;\n",
              "    }\n",
              "\n",
              "    .dataframe thead th {\n",
              "        text-align: right;\n",
              "    }\n",
              "</style>\n",
              "<table border=\"1\" class=\"dataframe\">\n",
              "  <thead>\n",
              "    <tr style=\"text-align: right;\">\n",
              "      <th></th>\n",
              "      <th>Producto</th>\n",
              "      <th>Categoría del Producto</th>\n",
              "      <th>Precio</th>\n",
              "      <th>Costo de envío</th>\n",
              "      <th>Fecha de Compra</th>\n",
              "      <th>Vendedor</th>\n",
              "      <th>Lugar de Compra</th>\n",
              "      <th>Calificación</th>\n",
              "      <th>Método de pago</th>\n",
              "      <th>Cantidad de cuotas</th>\n",
              "      <th>lat</th>\n",
              "      <th>lon</th>\n",
              "    </tr>\n",
              "  </thead>\n",
              "  <tbody>\n",
              "    <tr>\n",
              "      <th>0</th>\n",
              "      <td>Asistente virtual</td>\n",
              "      <td>Electrónicos</td>\n",
              "      <td>164300.0</td>\n",
              "      <td>6900.0</td>\n",
              "      <td>16/01/2021</td>\n",
              "      <td>Pedro Gomez</td>\n",
              "      <td>Bogotá</td>\n",
              "      <td>4</td>\n",
              "      <td>Tarjeta de crédito</td>\n",
              "      <td>8</td>\n",
              "      <td>4.60971</td>\n",
              "      <td>-74.08175</td>\n",
              "    </tr>\n",
              "    <tr>\n",
              "      <th>1</th>\n",
              "      <td>Mesa de comedor</td>\n",
              "      <td>Muebles</td>\n",
              "      <td>192300.0</td>\n",
              "      <td>8400.0</td>\n",
              "      <td>18/05/2022</td>\n",
              "      <td>Beatriz Morales</td>\n",
              "      <td>Medellín</td>\n",
              "      <td>1</td>\n",
              "      <td>Tarjeta de crédito</td>\n",
              "      <td>4</td>\n",
              "      <td>6.25184</td>\n",
              "      <td>-75.56359</td>\n",
              "    </tr>\n",
              "    <tr>\n",
              "      <th>2</th>\n",
              "      <td>Juego de mesa</td>\n",
              "      <td>Juguetes</td>\n",
              "      <td>209600.0</td>\n",
              "      <td>15900.0</td>\n",
              "      <td>15/03/2021</td>\n",
              "      <td>Juan Fernandez</td>\n",
              "      <td>Cartagena</td>\n",
              "      <td>1</td>\n",
              "      <td>Tarjeta de crédito</td>\n",
              "      <td>1</td>\n",
              "      <td>10.39972</td>\n",
              "      <td>-75.51444</td>\n",
              "    </tr>\n",
              "    <tr>\n",
              "      <th>3</th>\n",
              "      <td>Microondas</td>\n",
              "      <td>Electrodomésticos</td>\n",
              "      <td>757500.0</td>\n",
              "      <td>41000.0</td>\n",
              "      <td>03/05/2022</td>\n",
              "      <td>Juan Fernandez</td>\n",
              "      <td>Cali</td>\n",
              "      <td>4</td>\n",
              "      <td>Nequi</td>\n",
              "      <td>1</td>\n",
              "      <td>3.43722</td>\n",
              "      <td>-76.52250</td>\n",
              "    </tr>\n",
              "    <tr>\n",
              "      <th>4</th>\n",
              "      <td>Silla de oficina</td>\n",
              "      <td>Muebles</td>\n",
              "      <td>335200.0</td>\n",
              "      <td>20200.0</td>\n",
              "      <td>07/11/2020</td>\n",
              "      <td>Maria Alfonso</td>\n",
              "      <td>Medellín</td>\n",
              "      <td>5</td>\n",
              "      <td>Nequi</td>\n",
              "      <td>1</td>\n",
              "      <td>6.25184</td>\n",
              "      <td>-75.56359</td>\n",
              "    </tr>\n",
              "  </tbody>\n",
              "</table>\n",
              "</div>\n",
              "    <div class=\"colab-df-buttons\">\n",
              "\n",
              "  <div class=\"colab-df-container\">\n",
              "    <button class=\"colab-df-convert\" onclick=\"convertToInteractive('df-d55e1dcb-0221-4349-8391-30c38f4a57dd')\"\n",
              "            title=\"Convert this dataframe to an interactive table.\"\n",
              "            style=\"display:none;\">\n",
              "\n",
              "  <svg xmlns=\"http://www.w3.org/2000/svg\" height=\"24px\" viewBox=\"0 -960 960 960\">\n",
              "    <path d=\"M120-120v-720h720v720H120Zm60-500h600v-160H180v160Zm220 220h160v-160H400v160Zm0 220h160v-160H400v160ZM180-400h160v-160H180v160Zm440 0h160v-160H620v160ZM180-180h160v-160H180v160Zm440 0h160v-160H620v160Z\"/>\n",
              "  </svg>\n",
              "    </button>\n",
              "\n",
              "  <style>\n",
              "    .colab-df-container {\n",
              "      display:flex;\n",
              "      gap: 12px;\n",
              "    }\n",
              "\n",
              "    .colab-df-convert {\n",
              "      background-color: #E8F0FE;\n",
              "      border: none;\n",
              "      border-radius: 50%;\n",
              "      cursor: pointer;\n",
              "      display: none;\n",
              "      fill: #1967D2;\n",
              "      height: 32px;\n",
              "      padding: 0 0 0 0;\n",
              "      width: 32px;\n",
              "    }\n",
              "\n",
              "    .colab-df-convert:hover {\n",
              "      background-color: #E2EBFA;\n",
              "      box-shadow: 0px 1px 2px rgba(60, 64, 67, 0.3), 0px 1px 3px 1px rgba(60, 64, 67, 0.15);\n",
              "      fill: #174EA6;\n",
              "    }\n",
              "\n",
              "    .colab-df-buttons div {\n",
              "      margin-bottom: 4px;\n",
              "    }\n",
              "\n",
              "    [theme=dark] .colab-df-convert {\n",
              "      background-color: #3B4455;\n",
              "      fill: #D2E3FC;\n",
              "    }\n",
              "\n",
              "    [theme=dark] .colab-df-convert:hover {\n",
              "      background-color: #434B5C;\n",
              "      box-shadow: 0px 1px 3px 1px rgba(0, 0, 0, 0.15);\n",
              "      filter: drop-shadow(0px 1px 2px rgba(0, 0, 0, 0.3));\n",
              "      fill: #FFFFFF;\n",
              "    }\n",
              "  </style>\n",
              "\n",
              "    <script>\n",
              "      const buttonEl =\n",
              "        document.querySelector('#df-d55e1dcb-0221-4349-8391-30c38f4a57dd button.colab-df-convert');\n",
              "      buttonEl.style.display =\n",
              "        google.colab.kernel.accessAllowed ? 'block' : 'none';\n",
              "\n",
              "      async function convertToInteractive(key) {\n",
              "        const element = document.querySelector('#df-d55e1dcb-0221-4349-8391-30c38f4a57dd');\n",
              "        const dataTable =\n",
              "          await google.colab.kernel.invokeFunction('convertToInteractive',\n",
              "                                                    [key], {});\n",
              "        if (!dataTable) return;\n",
              "\n",
              "        const docLinkHtml = 'Like what you see? Visit the ' +\n",
              "          '<a target=\"_blank\" href=https://colab.research.google.com/notebooks/data_table.ipynb>data table notebook</a>'\n",
              "          + ' to learn more about interactive tables.';\n",
              "        element.innerHTML = '';\n",
              "        dataTable['output_type'] = 'display_data';\n",
              "        await google.colab.output.renderOutput(dataTable, element);\n",
              "        const docLink = document.createElement('div');\n",
              "        docLink.innerHTML = docLinkHtml;\n",
              "        element.appendChild(docLink);\n",
              "      }\n",
              "    </script>\n",
              "  </div>\n",
              "\n",
              "\n",
              "    <div id=\"df-c5a3bdd9-b68e-421e-aced-a9828a72768a\">\n",
              "      <button class=\"colab-df-quickchart\" onclick=\"quickchart('df-c5a3bdd9-b68e-421e-aced-a9828a72768a')\"\n",
              "                title=\"Suggest charts\"\n",
              "                style=\"display:none;\">\n",
              "\n",
              "<svg xmlns=\"http://www.w3.org/2000/svg\" height=\"24px\"viewBox=\"0 0 24 24\"\n",
              "     width=\"24px\">\n",
              "    <g>\n",
              "        <path d=\"M19 3H5c-1.1 0-2 .9-2 2v14c0 1.1.9 2 2 2h14c1.1 0 2-.9 2-2V5c0-1.1-.9-2-2-2zM9 17H7v-7h2v7zm4 0h-2V7h2v10zm4 0h-2v-4h2v4z\"/>\n",
              "    </g>\n",
              "</svg>\n",
              "      </button>\n",
              "\n",
              "<style>\n",
              "  .colab-df-quickchart {\n",
              "      --bg-color: #E8F0FE;\n",
              "      --fill-color: #1967D2;\n",
              "      --hover-bg-color: #E2EBFA;\n",
              "      --hover-fill-color: #174EA6;\n",
              "      --disabled-fill-color: #AAA;\n",
              "      --disabled-bg-color: #DDD;\n",
              "  }\n",
              "\n",
              "  [theme=dark] .colab-df-quickchart {\n",
              "      --bg-color: #3B4455;\n",
              "      --fill-color: #D2E3FC;\n",
              "      --hover-bg-color: #434B5C;\n",
              "      --hover-fill-color: #FFFFFF;\n",
              "      --disabled-bg-color: #3B4455;\n",
              "      --disabled-fill-color: #666;\n",
              "  }\n",
              "\n",
              "  .colab-df-quickchart {\n",
              "    background-color: var(--bg-color);\n",
              "    border: none;\n",
              "    border-radius: 50%;\n",
              "    cursor: pointer;\n",
              "    display: none;\n",
              "    fill: var(--fill-color);\n",
              "    height: 32px;\n",
              "    padding: 0;\n",
              "    width: 32px;\n",
              "  }\n",
              "\n",
              "  .colab-df-quickchart:hover {\n",
              "    background-color: var(--hover-bg-color);\n",
              "    box-shadow: 0 1px 2px rgba(60, 64, 67, 0.3), 0 1px 3px 1px rgba(60, 64, 67, 0.15);\n",
              "    fill: var(--button-hover-fill-color);\n",
              "  }\n",
              "\n",
              "  .colab-df-quickchart-complete:disabled,\n",
              "  .colab-df-quickchart-complete:disabled:hover {\n",
              "    background-color: var(--disabled-bg-color);\n",
              "    fill: var(--disabled-fill-color);\n",
              "    box-shadow: none;\n",
              "  }\n",
              "\n",
              "  .colab-df-spinner {\n",
              "    border: 2px solid var(--fill-color);\n",
              "    border-color: transparent;\n",
              "    border-bottom-color: var(--fill-color);\n",
              "    animation:\n",
              "      spin 1s steps(1) infinite;\n",
              "  }\n",
              "\n",
              "  @keyframes spin {\n",
              "    0% {\n",
              "      border-color: transparent;\n",
              "      border-bottom-color: var(--fill-color);\n",
              "      border-left-color: var(--fill-color);\n",
              "    }\n",
              "    20% {\n",
              "      border-color: transparent;\n",
              "      border-left-color: var(--fill-color);\n",
              "      border-top-color: var(--fill-color);\n",
              "    }\n",
              "    30% {\n",
              "      border-color: transparent;\n",
              "      border-left-color: var(--fill-color);\n",
              "      border-top-color: var(--fill-color);\n",
              "      border-right-color: var(--fill-color);\n",
              "    }\n",
              "    40% {\n",
              "      border-color: transparent;\n",
              "      border-right-color: var(--fill-color);\n",
              "      border-top-color: var(--fill-color);\n",
              "    }\n",
              "    60% {\n",
              "      border-color: transparent;\n",
              "      border-right-color: var(--fill-color);\n",
              "    }\n",
              "    80% {\n",
              "      border-color: transparent;\n",
              "      border-right-color: var(--fill-color);\n",
              "      border-bottom-color: var(--fill-color);\n",
              "    }\n",
              "    90% {\n",
              "      border-color: transparent;\n",
              "      border-bottom-color: var(--fill-color);\n",
              "    }\n",
              "  }\n",
              "</style>\n",
              "\n",
              "      <script>\n",
              "        async function quickchart(key) {\n",
              "          const quickchartButtonEl =\n",
              "            document.querySelector('#' + key + ' button');\n",
              "          quickchartButtonEl.disabled = true;  // To prevent multiple clicks.\n",
              "          quickchartButtonEl.classList.add('colab-df-spinner');\n",
              "          try {\n",
              "            const charts = await google.colab.kernel.invokeFunction(\n",
              "                'suggestCharts', [key], {});\n",
              "          } catch (error) {\n",
              "            console.error('Error during call to suggestCharts:', error);\n",
              "          }\n",
              "          quickchartButtonEl.classList.remove('colab-df-spinner');\n",
              "          quickchartButtonEl.classList.add('colab-df-quickchart-complete');\n",
              "        }\n",
              "        (() => {\n",
              "          let quickchartButtonEl =\n",
              "            document.querySelector('#df-c5a3bdd9-b68e-421e-aced-a9828a72768a button');\n",
              "          quickchartButtonEl.style.display =\n",
              "            google.colab.kernel.accessAllowed ? 'block' : 'none';\n",
              "        })();\n",
              "      </script>\n",
              "    </div>\n",
              "\n",
              "    </div>\n",
              "  </div>\n"
            ],
            "application/vnd.google.colaboratory.intrinsic+json": {
              "type": "dataframe",
              "variable_name": "tienda",
              "summary": "{\n  \"name\": \"tienda\",\n  \"rows\": 2359,\n  \"fields\": [\n    {\n      \"column\": \"Producto\",\n      \"properties\": {\n        \"dtype\": \"category\",\n        \"num_unique_values\": 51,\n        \"samples\": [\n          \"Guitarra ac\\u00fastica\",\n          \"Bal\\u00f3n de baloncesto\",\n          \"Smartwatch\"\n        ],\n        \"semantic_type\": \"\",\n        \"description\": \"\"\n      }\n    },\n    {\n      \"column\": \"Categor\\u00eda del Producto\",\n      \"properties\": {\n        \"dtype\": \"category\",\n        \"num_unique_values\": 8,\n        \"samples\": [\n          \"Muebles\",\n          \"Deportes y diversi\\u00f3n\",\n          \"Electr\\u00f3nicos\"\n        ],\n        \"semantic_type\": \"\",\n        \"description\": \"\"\n      }\n    },\n    {\n      \"column\": \"Precio\",\n      \"properties\": {\n        \"dtype\": \"number\",\n        \"std\": 614686.7653873172,\n        \"min\": 7600.0,\n        \"max\": 2977000.0,\n        \"num_unique_values\": 1937,\n        \"samples\": [\n          2499400.0,\n          14800.0,\n          80500.0\n        ],\n        \"semantic_type\": \"\",\n        \"description\": \"\"\n      }\n    },\n    {\n      \"column\": \"Costo de env\\u00edo\",\n      \"properties\": {\n        \"dtype\": \"number\",\n        \"std\": 32860.0017825605,\n        \"min\": 0.0,\n        \"max\": 160800.0,\n        \"num_unique_values\": 753,\n        \"samples\": [\n          117800.0,\n          54700.0,\n          45600.0\n        ],\n        \"semantic_type\": \"\",\n        \"description\": \"\"\n      }\n    },\n    {\n      \"column\": \"Fecha de Compra\",\n      \"properties\": {\n        \"dtype\": \"object\",\n        \"num_unique_values\": 1018,\n        \"samples\": [\n          \"15/09/2022\",\n          \"03/06/2020\",\n          \"06/11/2021\"\n        ],\n        \"semantic_type\": \"\",\n        \"description\": \"\"\n      }\n    },\n    {\n      \"column\": \"Vendedor\",\n      \"properties\": {\n        \"dtype\": \"category\",\n        \"num_unique_values\": 14,\n        \"samples\": [\n          \"Juliana Costa\",\n          \"Mariana Herrera\",\n          \"Pedro Gomez\"\n        ],\n        \"semantic_type\": \"\",\n        \"description\": \"\"\n      }\n    },\n    {\n      \"column\": \"Lugar de Compra\",\n      \"properties\": {\n        \"dtype\": \"category\",\n        \"num_unique_values\": 19,\n        \"samples\": [\n          \"Bogot\\u00e1\",\n          \"Pereira\",\n          \"Neiva\"\n        ],\n        \"semantic_type\": \"\",\n        \"description\": \"\"\n      }\n    },\n    {\n      \"column\": \"Calificaci\\u00f3n\",\n      \"properties\": {\n        \"dtype\": \"number\",\n        \"std\": 1,\n        \"min\": 1,\n        \"max\": 5,\n        \"num_unique_values\": 5,\n        \"samples\": [\n          1,\n          2,\n          5\n        ],\n        \"semantic_type\": \"\",\n        \"description\": \"\"\n      }\n    },\n    {\n      \"column\": \"M\\u00e9todo de pago\",\n      \"properties\": {\n        \"dtype\": \"category\",\n        \"num_unique_values\": 4,\n        \"samples\": [\n          \"Nequi\",\n          \"Tarjeta de d\\u00e9bito\",\n          \"Tarjeta de cr\\u00e9dito\"\n        ],\n        \"semantic_type\": \"\",\n        \"description\": \"\"\n      }\n    },\n    {\n      \"column\": \"Cantidad de cuotas\",\n      \"properties\": {\n        \"dtype\": \"number\",\n        \"std\": 2,\n        \"min\": 1,\n        \"max\": 24,\n        \"num_unique_values\": 15,\n        \"samples\": [\n          7,\n          14,\n          8\n        ],\n        \"semantic_type\": \"\",\n        \"description\": \"\"\n      }\n    },\n    {\n      \"column\": \"lat\",\n      \"properties\": {\n        \"dtype\": \"number\",\n        \"std\": 2.2874452492678627,\n        \"min\": -4.21528,\n        \"max\": 11.54444,\n        \"num_unique_values\": 19,\n        \"samples\": [\n          4.60971,\n          4.81333,\n          2.9273\n        ],\n        \"semantic_type\": \"\",\n        \"description\": \"\"\n      }\n    },\n    {\n      \"column\": \"lon\",\n      \"properties\": {\n        \"dtype\": \"number\",\n        \"std\": 1.2178272727088486,\n        \"min\": -77.28111,\n        \"max\": -67.9239,\n        \"num_unique_values\": 19,\n        \"samples\": [\n          -74.08175,\n          -75.69611,\n          -75.28189\n        ],\n        \"semantic_type\": \"\",\n        \"description\": \"\"\n      }\n    }\n  ]\n}"
            }
          },
          "metadata": {},
          "execution_count": 1
        }
      ],
      "source": [
        "import pandas as pd\n",
        "\n",
        "url = \"https://raw.githubusercontent.com/alura-es-cursos/challenge1-data-science-latam/refs/heads/main/base-de-datos-challenge1-latam/tienda_1%20.csv\"\n",
        "url2 = \"https://raw.githubusercontent.com/alura-es-cursos/challenge1-data-science-latam/refs/heads/main/base-de-datos-challenge1-latam/tienda_2.csv\"\n",
        "url3 = \"https://raw.githubusercontent.com/alura-es-cursos/challenge1-data-science-latam/refs/heads/main/base-de-datos-challenge1-latam/tienda_3.csv\"\n",
        "url4 = \"https://raw.githubusercontent.com/alura-es-cursos/challenge1-data-science-latam/refs/heads/main/base-de-datos-challenge1-latam/tienda_4.csv\"\n",
        "\n",
        "tienda = pd.read_csv(url)\n",
        "tienda2 = pd.read_csv(url2)\n",
        "tienda3 = pd.read_csv(url3)\n",
        "tienda4 = pd.read_csv(url4)\n",
        "\n",
        "tienda.head()"
      ]
    },
    {
      "cell_type": "markdown",
      "source": [
        "#1. Análisis de facturación\n",
        "\n"
      ],
      "metadata": {
        "id": "X62IW3KFUIYm"
      }
    },
    {
      "cell_type": "markdown",
      "source": [
        "En este primer análisis, debes calcular el ingreso total de cada tienda. Sumando los valores de la columna Precio de cada conjunto de datos de la tienda para estimar los ingresos."
      ],
      "metadata": {
        "id": "2A2PGtt1Qw2O"
      }
    },
    {
      "cell_type": "code",
      "source": [
        "import pandas as pd\n",
        "\n",
        "urls = {\n",
        "    \"Tienda 1\": \"https://raw.githubusercontent.com/alura-es-cursos/challenge1-data-science-latam/refs/heads/main/base-de-datos-challenge1-latam/tienda_1%20.csv\",\n",
        "    \"Tienda 2\": \"https://raw.githubusercontent.com/alura-es-cursos/challenge1-data-science-latam/refs/heads/main/base-de-datos-challenge1-latam/tienda_2.csv\",\n",
        "    \"Tienda 3\": \"https://raw.githubusercontent.com/alura-es-cursos/challenge1-data-science-latam/refs/heads/main/base-de-datos-challenge1-latam/tienda_3.csv\",\n",
        "    \"Tienda 4\": \"https://raw.githubusercontent.com/alura-es-cursos/challenge1-data-science-latam/refs/heads/main/base-de-datos-challenge1-latam/tienda_4.csv\",\n",
        "}\n",
        "\n",
        "facturacion = {}\n",
        "\n",
        "for nombre, url in urls.items():\n",
        "    df = pd.read_csv(url)\n",
        "\n",
        "    df[\"Precio\"] = pd.to_numeric(df[\"Precio\"], errors=\"coerce\")\n",
        "\n",
        "    facturacion[nombre] = df[\"Precio\"].sum()\n",
        "\n",
        "for tienda, total in facturacion.items():\n",
        "    print(f\"Facturación {tienda}: ${total:,.2f}\")\n",
        "\n",
        "total_general = sum(facturacion.values())\n",
        "print(f\"\\nFacturación total de todas las tiendas: ${total_general:,.2f}\")\n"
      ],
      "metadata": {
        "colab": {
          "base_uri": "https://localhost:8080/"
        },
        "id": "sVA0su66DVPy",
        "outputId": "ce49a69c-9068-4b71-8a30-d18da6cc9134"
      },
      "execution_count": 8,
      "outputs": [
        {
          "output_type": "stream",
          "name": "stdout",
          "text": [
            "Facturación Tienda 1: $1,150,880,400.00\n",
            "Facturación Tienda 2: $1,116,343,500.00\n",
            "Facturación Tienda 3: $1,098,019,600.00\n",
            "Facturación Tienda 4: $1,038,375,700.00\n",
            "\n",
            "Facturación total de todas las tiendas: $4,403,619,200.00\n"
          ]
        }
      ]
    },
    {
      "cell_type": "markdown",
      "source": [
        "# 2. Ventas por categoría"
      ],
      "metadata": {
        "id": "2V_vcAPzWZmR"
      }
    },
    {
      "cell_type": "markdown",
      "source": [
        "En este debes calcular la cantidad de productos vendidos por categoría en cada tienda. La idea es agrupar los datos por categoría y contar el número de ventas de cada tipo, mostrando las categorías más populares de cada tienda."
      ],
      "metadata": {
        "id": "0oNpIaHZQ9I4"
      }
    },
    {
      "cell_type": "markdown",
      "source": [],
      "metadata": {
        "id": "j5nW-EmC_dmp"
      }
    },
    {
      "cell_type": "code",
      "source": [
        "totales_tienda = {}\n",
        "\n",
        "for nombre, url in urls.items():\n",
        "\n",
        "    df = pd.read_csv(url)\n",
        "\n",
        "    df[\"Precio\"] = pd.to_numeric(df[\"Precio\"], errors=\"coerce\")\n",
        "\n",
        "    ventas_categoria = (\n",
        "        df.groupby(\"Categoría del Producto\")[\"Precio\"]\n",
        "          .sum()\n",
        "          .sort_values(ascending=False)\n",
        "    )\n",
        "\n",
        "    print(f\"\\nVentas por categoría en {nombre}:\")\n",
        "    for categoria, total in ventas_categoria.items():\n",
        "        print(f\"  {categoria}: ${total:,.2f}\")\n",
        "\n",
        "    total_tienda = ventas_categoria.sum()\n",
        "    totales_tienda[nombre] = total_tienda\n",
        "    print(f\"  ➜ Total {nombre}: ${total_tienda:,.2f}\")\n",
        "\n",
        "total_general = sum(totales_tienda.values())\n",
        "print(\"\\nFacturación total de todas las tiendas:\", f\"${total_general:,.2f}\")\n"
      ],
      "metadata": {
        "colab": {
          "base_uri": "https://localhost:8080/"
        },
        "id": "uzUGwi31HgZU",
        "outputId": "0f79fac8-06df-451c-f607-25beda6b6298"
      },
      "execution_count": 15,
      "outputs": [
        {
          "output_type": "stream",
          "name": "stdout",
          "text": [
            "\n",
            "Ventas por categoría en Tienda 1:\n",
            "  Electrónicos: $429,493,500.00\n",
            "  Electrodomésticos: $363,685,200.00\n",
            "  Muebles: $187,633,700.00\n",
            "  Instrumentos musicales: $91,299,000.00\n",
            "  Deportes y diversión: $39,290,000.00\n",
            "  Juguetes: $17,995,700.00\n",
            "  Artículos para el hogar: $12,698,400.00\n",
            "  Libros: $8,784,900.00\n",
            "  ➜ Total Tienda 1: $1,150,880,400.00\n",
            "\n",
            "Ventas por categoría en Tienda 2:\n",
            "  Electrónicos: $410,831,100.00\n",
            "  Electrodomésticos: $348,567,800.00\n",
            "  Muebles: $176,426,300.00\n",
            "  Instrumentos musicales: $104,990,300.00\n",
            "  Deportes y diversión: $34,744,500.00\n",
            "  Juguetes: $15,945,400.00\n",
            "  Artículos para el hogar: $14,746,900.00\n",
            "  Libros: $10,091,200.00\n",
            "  ➜ Total Tienda 2: $1,116,343,500.00\n",
            "\n",
            "Ventas por categoría en Tienda 3:\n",
            "  Electrónicos: $410,775,800.00\n",
            "  Electrodomésticos: $329,237,900.00\n",
            "  Muebles: $201,072,100.00\n",
            "  Instrumentos musicales: $77,380,900.00\n",
            "  Deportes y diversión: $35,593,100.00\n",
            "  Juguetes: $19,401,100.00\n",
            "  Artículos para el hogar: $15,060,000.00\n",
            "  Libros: $9,498,700.00\n",
            "  ➜ Total Tienda 3: $1,098,019,600.00\n",
            "\n",
            "Ventas por categoría en Tienda 4:\n",
            "  Electrónicos: $409,476,100.00\n",
            "  Electrodomésticos: $283,260,200.00\n",
            "  Muebles: $192,528,900.00\n",
            "  Instrumentos musicales: $75,102,400.00\n",
            "  Deportes y diversión: $33,350,100.00\n",
            "  Juguetes: $20,262,200.00\n",
            "  Artículos para el hogar: $15,074,500.00\n",
            "  Libros: $9,321,300.00\n",
            "  ➜ Total Tienda 4: $1,038,375,700.00\n",
            "\n",
            "Facturación total de todas las tiendas: $4,403,619,200.00\n"
          ]
        }
      ]
    },
    {
      "cell_type": "markdown",
      "source": [
        "# 3. Calificación promedio de la tienda\n"
      ],
      "metadata": {
        "id": "Rq6tU_xSY3jk"
      }
    },
    {
      "cell_type": "markdown",
      "source": [
        "En este paso, debes calcular las calificaciones promedio de los clientes para cada tienda. El objetivo es conocer la satisfacción del cliente con los productos vendidos."
      ],
      "metadata": {
        "id": "7Z60bG-WRAFi"
      }
    },
    {
      "cell_type": "code",
      "source": [
        "col_calif = \"Calificación\"\n",
        "\n",
        "for nombre, url in urls.items():\n",
        "\n",
        "    df = pd.read_csv(url)\n",
        "\n",
        "    df[col_calif] = pd.to_numeric(df[col_calif], errors=\"coerce\")\n",
        "\n",
        "    calif_prom = df[col_calif].mean()\n",
        "\n",
        "    print(f\"Calificación promedio de la {nombre}: {calif_prom:.2f}\")"
      ],
      "metadata": {
        "id": "bh3jjjJwY5MU",
        "colab": {
          "base_uri": "https://localhost:8080/"
        },
        "outputId": "2904033c-4ebe-4900-ac6b-e180b37b6c1b"
      },
      "execution_count": 16,
      "outputs": [
        {
          "output_type": "stream",
          "name": "stdout",
          "text": [
            "Calificación promedio de la Tienda 1: 3.98\n",
            "Calificación promedio de la Tienda 2: 4.04\n",
            "Calificación promedio de la Tienda 3: 4.05\n",
            "Calificación promedio de la Tienda 4: 4.00\n"
          ]
        }
      ]
    },
    {
      "cell_type": "markdown",
      "source": [
        "# 4. Productos más y menos vendidos"
      ],
      "metadata": {
        "id": "DmNp1KPBZCm-"
      }
    },
    {
      "cell_type": "markdown",
      "source": [
        "En este paso, debes identificar qué productos fueron los más vendidos y los menos vendidos en cada tienda. Visualiza los resultados para que quede claro qué productos destacaron en ventas en cada tienda."
      ],
      "metadata": {
        "id": "-h-tmeRoRfuf"
      }
    },
    {
      "cell_type": "code",
      "source": [
        "col_precio   = \"Precio\"\n",
        "col_producto = \"Producto\"\n",
        "totales      = {}\n",
        "\n",
        "for nombre, url in urls.items():\n",
        "    df = pd.read_csv(url)\n",
        "\n",
        "    df[col_precio] = pd.to_numeric(df[col_precio], errors=\"coerce\")\n",
        "\n",
        "    ingresos_prod = (\n",
        "        df.groupby(col_producto)[col_precio]\n",
        "          .sum()\n",
        "          .sort_values(ascending=False)\n",
        "    )\n",
        "\n",
        "    totales[nombre] = ingresos_prod.sum()\n",
        "\n",
        "\n",
        "    top3   = ingresos_prod.head(3)\n",
        "    bottom3 = ingresos_prod.tail(3)\n",
        "\n",
        "    print(f\"\\n{nombre} - TOP 3 productos que MÁS dinero generaron:\")\n",
        "    for prod, total in top3.items():\n",
        "        print(f\"  {prod} - Ingresos: ${total:,.2f}\")\n",
        "\n",
        "    print(f\"\\n{nombre} - TOP 3 productos que MENOS dinero generaron:\")\n",
        "    for prod, total in bottom3.items():\n",
        "        print(f\"  {prod} - Ingresos: ${total:,.2f}\")\n",
        "\n",
        "    print(\"-\" * 60)\n",
        "\n",
        "total_general = sum(totales.values())\n",
        "print(f\"\\nFacturación total de todas las tiendas (verificación): ${total_general:,.2f}\")"
      ],
      "metadata": {
        "id": "qoyjqijQZHfF",
        "colab": {
          "base_uri": "https://localhost:8080/"
        },
        "outputId": "25f0eabd-cae1-4488-9b9d-ad9189fc786d"
      },
      "execution_count": 17,
      "outputs": [
        {
          "output_type": "stream",
          "name": "stdout",
          "text": [
            "\n",
            "Tienda 1 - TOP 3 productos que MÁS dinero generaron:\n",
            "  TV LED UHD 4K - Ingresos: $142,150,200.00\n",
            "  Refrigerador - Ingresos: $112,143,300.00\n",
            "  Iphone 15 - Ingresos: $97,902,200.00\n",
            "\n",
            "Tienda 1 - TOP 3 productos que MENOS dinero generaron:\n",
            "  Cubo mágico 8x8 - Ingresos: $696,900.00\n",
            "  Dinosaurio Rex - Ingresos: $688,900.00\n",
            "  Cuerda para saltar - Ingresos: $652,800.00\n",
            "------------------------------------------------------------\n",
            "\n",
            "Tienda 2 - TOP 3 productos que MÁS dinero generaron:\n",
            "  Iphone 15 - Ingresos: $113,225,800.00\n",
            "  TV LED UHD 4K - Ingresos: $103,375,000.00\n",
            "  Refrigerador - Ingresos: $97,632,500.00\n",
            "\n",
            "Tienda 2 - TOP 3 productos que MENOS dinero generaron:\n",
            "  Cuerda para saltar - Ingresos: $856,900.00\n",
            "  Dinosaurio Rex - Ingresos: $770,300.00\n",
            "  Cubo mágico 8x8 - Ingresos: $643,600.00\n",
            "------------------------------------------------------------\n",
            "\n",
            "Tienda 3 - TOP 3 productos que MÁS dinero generaron:\n",
            "  Refrigerador - Ingresos: $99,889,700.00\n",
            "  TV LED UHD 4K - Ingresos: $96,669,100.00\n",
            "  Iphone 15 - Ingresos: $93,225,700.00\n",
            "\n",
            "Tienda 3 - TOP 3 productos que MENOS dinero generaron:\n",
            "  Cuerda para saltar - Ingresos: $853,800.00\n",
            "  Dinosaurio Rex - Ingresos: $795,600.00\n",
            "  Cubo mágico 8x8 - Ingresos: $640,400.00\n",
            "------------------------------------------------------------\n",
            "\n",
            "Tienda 4 - TOP 3 productos que MÁS dinero generaron:\n",
            "  Iphone 15 - Ingresos: $96,697,500.00\n",
            "  TV LED UHD 4K - Ingresos: $90,295,300.00\n",
            "  Smart TV - Ingresos: $82,790,400.00\n",
            "\n",
            "Tienda 4 - TOP 3 productos que MENOS dinero generaron:\n",
            "  Dinosaurio Rex - Ingresos: $858,100.00\n",
            "  Cubo mágico 8x8 - Ingresos: $748,400.00\n",
            "  Cuerda para saltar - Ingresos: $704,800.00\n",
            "------------------------------------------------------------\n",
            "\n",
            "Facturación total de todas las tiendas (verificación): $4,403,619,200.00\n"
          ]
        }
      ]
    },
    {
      "cell_type": "markdown",
      "source": [
        "# 5. Envío promedio por tienda"
      ],
      "metadata": {
        "id": "Fl0cGi3bZKqU"
      }
    },
    {
      "cell_type": "markdown",
      "source": [
        "En este paso, debes calcular el costo de envío promedio para cada tienda. El objetivo es comprender cuánto se gasta, en promedio, en el envío de cada tienda."
      ],
      "metadata": {
        "id": "Xod8W6PiRpms"
      }
    },
    {
      "cell_type": "code",
      "source": [
        "col_envio = \"Costo de envío\"\n",
        "\n",
        "for nombre, url in urls.items():\n",
        "\n",
        "    df = pd.read_csv(url)\n",
        "\n",
        "    df[col_envio] = pd.to_numeric(df[col_envio], errors=\"coerce\")\n",
        "\n",
        "    envio_prom = df[col_envio].mean()\n",
        "\n",
        "    print(f\"{nombre} - Envío promedio: ${envio_prom:,.2f}\")"
      ],
      "metadata": {
        "id": "S2JeaCykZNy9",
        "colab": {
          "base_uri": "https://localhost:8080/"
        },
        "outputId": "d20d8a2b-76ec-4af3-c896-3bfca3e5f782"
      },
      "execution_count": 20,
      "outputs": [
        {
          "output_type": "stream",
          "name": "stdout",
          "text": [
            "Tienda 1 - Envío promedio: $26,018.61\n",
            "Tienda 2 - Envío promedio: $25,216.24\n",
            "Tienda 3 - Envío promedio: $24,805.68\n",
            "Tienda 4 - Envío promedio: $23,459.46\n"
          ]
        }
      ]
    },
    {
      "cell_type": "markdown",
      "source": [
        "Después de realizar los análisis, es hora de transformar sus resultados en visualizaciones que le ayuden a comprender mejor los patrones y los insights encontrados.\n",
        "\n",
        "De acuerdo con funciones que haya creado, le recomendamos que genere al menos tres gráficos. Estos gráficos deben ser de diferentes tipos (como barras, líneas, dispersión, entre otros) para presentar una visión completa de los datos.\n",
        "\n",
        "Recuerde que los gráficos deben complementar el análisis realizado, resaltando los puntos más relevantes, como los ingresos de la tienda, la distribución de categorías de productos, las opiniones de los clientes, los productos más vendidos y/o los costes de envío.\n",
        "\n",
        "No es necesario mostrar una visualización en cada paso, pero al final del análisis debes generar los gráficos que consideres más útiles para interpretar los datos.\n",
        "\n",
        "Consejo: Matplotlib ofrece una variedad de tipos de gráficos que son fáciles de implementar, lo que lo convierte en una excelente opción para principiantes. Utilice su creatividad para elegir los gráficos que mejor resalten las tendencias y los conocimientos de su análisis."
      ],
      "metadata": {
        "id": "lhVotfnWR57k"
      }
    },
    {
      "cell_type": "code",
      "source": [
        "import matplotlib.pyplot as plt\n"
      ],
      "metadata": {
        "id": "7TNKl2XqR7W3"
      },
      "execution_count": 22,
      "outputs": []
    },
    {
      "cell_type": "code",
      "source": [
        "COL_PRECIO   = \"Precio\"\n",
        "COL_ENVIO    = \"Costo de envío\"\n",
        "COL_RATING   = \"Calificación\"\n",
        "\n",
        "revenue      = {}\n",
        "avg_shipping = {}\n",
        "avg_rating   = {}\n",
        "\n",
        "for store, url in urls.items():\n",
        "    df = pd.read_csv(url)\n",
        "\n",
        "    df[COL_PRECIO] = pd.to_numeric(df[COL_PRECIO], errors=\"coerce\")\n",
        "    df[COL_ENVIO]  = pd.to_numeric(df[COL_ENVIO],  errors=\"coerce\")\n",
        "    df[COL_RATING] = pd.to_numeric(df[COL_RATING], errors=\"coerce\")\n",
        "\n",
        "    revenue[store]      = df[COL_PRECIO].sum()\n",
        "    avg_shipping[store] = df[COL_ENVIO].mean()\n",
        "    avg_rating[store]   = df[COL_RATING].mean()\n",
        "\n",
        "rev_s      = pd.Series(revenue).sort_values(ascending=False)\n",
        "ship_s     = pd.Series(avg_shipping).sort_values(ascending=False)\n",
        "rating_s   = pd.Series(avg_rating).sort_values(ascending=False)\n"
      ],
      "metadata": {
        "id": "1U6vB5VBR7kn"
      },
      "execution_count": 49,
      "outputs": []
    },
    {
      "cell_type": "code",
      "source": [
        "COL_RATING = \"Calificación\"\n",
        "\n",
        "ratings = {}\n",
        "for store, url in urls.items():\n",
        "    df = pd.read_csv(url)\n",
        "    df[COL_RATING] = pd.to_numeric(df[COL_RATING], errors=\"coerce\")\n",
        "    ratings[store] = df[COL_RATING].mean()\n",
        "\n",
        "rating_s = pd.Series(ratings).sort_values(ascending=True)\n",
        "\n",
        "plt.figure()\n",
        "plt.scatter(rating_s.values, rating_s.index, s=90)\n",
        "plt.axvline(4.0, color=\"grey\", linestyle=\"--\", linewidth=0.8)\n",
        "\n",
        "for y, (x, raw) in enumerate(zip(rating_s.values, rating_s.values)):\n",
        "    plt.text(x, rating_s.index[y], f\"{raw:.2f}\",\n",
        "             va=\"center\", ha=\"left\", fontsize=9)\n",
        "\n",
        "plt.xlim(rating_s.min() - 0.04, rating_s.max() + 0.04)\n",
        "plt.xlabel(\"Calificación promedio (escala 0-5)\")\n",
        "plt.title(\"Comparación de calificaciones promedio por tienda (zoom 3,9–4,1)\")\n",
        "plt.ylabel(\"\")\n",
        "plt.grid(axis=\"x\", linestyle=\":\", linewidth=0.4)\n",
        "plt.tight_layout()\n",
        "\n",
        "plt.show()\n"
      ],
      "metadata": {
        "colab": {
          "base_uri": "https://localhost:8080/",
          "height": 487
        },
        "id": "wROfKs73s3Bo",
        "outputId": "59329c43-0e0d-4c37-c35f-56ce50967212"
      },
      "execution_count": 60,
      "outputs": [
        {
          "output_type": "display_data",
          "data": {
            "text/plain": [
              "<Figure size 640x480 with 1 Axes>"
            ],
            "image/png": "[encoded data removed]"
          },
          "metadata": {}
        }
      ]
    },
    {
      "cell_type": "code",
      "source": [
        "plt.figure()\n",
        "ship_s.sort_index().plot(kind=\"line\", marker=\"o\")\n",
        "plt.title(\"Costo de envío promedio por tienda (menor es mejor)\")\n",
        "plt.ylabel(\"Costo de Envío ($)\")\n",
        "plt.xlabel(\"\")\n",
        "plt.tight_layout()\n",
        "\n",
        "plt.show()"
      ],
      "metadata": {
        "colab": {
          "base_uri": "https://localhost:8080/",
          "height": 487
        },
        "id": "WNOwnduttPMZ",
        "outputId": "4ba8bdb1-07c7-47f8-9a03-5570e181fe18"
      },
      "execution_count": 51,
      "outputs": [
        {
          "output_type": "display_data",
          "data": {
            "text/plain": [
              "<Figure size 640x480 with 1 Axes>"
            ],
            "image/png": "[encoded data removed]"
          },
          "metadata": {}
        }
      ]
    },
    {
      "cell_type": "code",
      "source": [
        "plt.figure()\n",
        "rev_s.plot(kind=\"pie\", autopct=\"%1.1f%%\", startangle=90)\n",
        "plt.title(\"Participación de cada tienda en los ingresos totales\")\n",
        "plt.ylabel(\"\")  # remueve etiqueta del eje Y\n",
        "plt.tight_layout()\n",
        "\n",
        "plt.show()"
      ],
      "metadata": {
        "colab": {
          "base_uri": "https://localhost:8080/",
          "height": 487
        },
        "id": "W_lTDb9XtUUn",
        "outputId": "ba2bf30d-feff-4ddc-c0a8-6a4153da51ee"
      },
      "execution_count": 55,
      "outputs": [
        {
          "output_type": "display_data",
          "data": {
            "text/plain": [
              "<Figure size 640x480 with 1 Axes>"
            ],
            "image/png": "[encoded data removed]"
          },
          "metadata": {}
        }
      ]
    },
    {
      "cell_type": "markdown",
      "source": [
        "Con base en los análisis realizados y los gráficos generados, es momento de sintetizar sus hallazgos en un informe final. Dentro de tu Colab, deberás redactar un texto explicando a qué tienda debe vender el Sr. Juan, teniendo en cuenta todos los factores analizados, como:\n",
        "\n",
        "Los ingresos totales de las tiendas.\n",
        "\n",
        "Las categorías de productos más y menos vendidas.\n",
        "\n",
        "Las calificaciones promedio de los clientes por tienda.\n",
        "\n",
        "Los productos más y menos vendidos.\n",
        "\n",
        "El coste de envío promedio para cada tienda.\n",
        "\n",
        "En su informe, incluya la justificación de su decisión, respaldada por el análisis y las visualizaciones que generó. Explicar, de forma clara y objetiva, las razones por las que una tienda destaca (o no) en relación a las demás, considerando las fortalezas y debilidades de cada una.\n",
        "\n",
        "Su informe debe estar bien estructurado, con una introducción que explique el propósito del análisis, un desarrollo con la presentación de datos y gráficos, y una conclusión recomendando la tienda que se debe vender y justificando la elección."
      ],
      "metadata": {
        "id": "A6Tr-M8zR8Dv"
      }
    },
    {
      "cell_type": "code",
      "source": [],
      "metadata": {
        "id": "Gn2VcypGSCtw"
      },
      "execution_count": null,
      "outputs": []
    },
    {
      "cell_type": "markdown",
      "source": [
        "Esta actividad es un extra, por lo tanto es OPCIONAL.\n",
        "\n",
        "En este extra, tendrás el desafío de explorar las coordenadas geográficas de los datos de ventas e identificar patrones relacionados con la ubicación de las compras. Al utilizar las columnas de latitud y longitud, puede generar visualizaciones para comprender cómo varían las ventas según la ubicación geográfica.\n",
        "\n",
        "Desafío:\n",
        "\n",
        "Utilice los datos de latitud (lat) y longitud (lon) para mapear las ventas de cada tienda y analizar la distribución geográfica de los productos vendidos.\n",
        "\n",
        "Genere gráficos de dispersión o mapas de calor (Heatmaps) para visualizar datos e identificar áreas con la mayor concentración de ventas.\n",
        "\n",
        "Explore si algunas tiendas tienen un rendimiento superior o inferior al esperado en determinadas regiones e identifique si existen patrones geográficos que puedan influir en el rendimiento de las tiendas.\n",
        "\n",
        "Sugerencias:\n",
        "\n",
        "Puede utilizar la biblioteca Matplotlib para gráficos de dispersión o incluso integrarla con otras bibliotecas como Folium para generar mapas interactivos si desea ir más allá.\n",
        "\n",
        "Analice cómo las variables geográficas influyen en los ingresos y las calificaciones de las tiendas."
      ],
      "metadata": {
        "id": "24UH0zSwSLxJ"
      }
    },
    {
      "cell_type": "code",
      "source": [],
      "metadata": {
        "id": "bLcOfQyIOt6O"
      },
      "execution_count": null,
      "outputs": []
    },
    {
      "cell_type": "markdown",
      "source": [
        "INFORME FINAL\n",
        "\n",
        "Recomendación sobre la tienda de la red Alura Store que el Sr. Juan debería vender.\n",
        "\n",
        "Introducción\n",
        "\n",
        "Este informe sintetiza los hallazgos obtenidos con pandas y matplotlib tras examinar las cuatro tiendas de la red Alura Store. El propósito es identificar cuál de ellas conviene traspasar a un nuevo propietario, maximizando el rendimiento global del negocio. Para ello se evaluaron cinco factores:\n",
        "\n",
        "1. Ingresos totales de cada tienda.\n",
        "2. Categorías de productos que más y menos se venden.\n",
        "3. Calificación promedio que los clientes otorgan a cada tienda.\n",
        "4. Productos estrella y productos rezagados en términos de dinero generado.\n",
        "5. Costo promedio de envío por tienda.\n",
        "\n",
        "Tres gráficos clave que sirven de apoyo visual y que complementan el análisis:\n",
        "\n",
        "1. Gráfico de barras verticales que señala cuánto factura cada tienda.\n",
        "\n",
        "2. Gráfico de línea que compara, punto a punto, el costo de envío promedio por cada tienda.\n",
        "\n",
        "3. Gráfico de puntos con zoom (entre 3,9 y 4,1) que grafica cuánto factura cada tienda.\n",
        "\n",
        "Desarrollo\n",
        "\n",
        "Ingresos totales:\n",
        "\n",
        "La gráfica de barras muestra que la Tienda 1 lidera la facturación con aproximadamente 1.150 mil millones al  año ; Apenas detrás aparece la Tienda 2, con 1.116 mil millones, una diferencia de solo 3%. Las Tiendas 3 con 1.098 mil millones y 4 con $1.038 mil millones completan el cuadro con volúmenes ligeramente menores. Aunque este primer puesto parece ventajoso, el resto de los indicadores matiza su verdadera competitividad.\n",
        "\n",
        "Calificación promedio:\n",
        "\n",
        "El grafico de puntos, centrado en el rango 3,9 y 4,1, revela que la Tienda 1 es la única que queda por debajo del umbral de 4,0 (3,98); Esto significa más devoluciones, más reclamos y, en general, una reputación online que cuesta remontar. Las Tiendas 2 y 3 alcanzan 4,04 y 4,05 respectivamente, y la Tienda 4 se sitúa en 4,00 justo en la línea de corte. Esta diferencia, aunque numéricamente pequeña, se traduce en menor fidelidad y mayor tasa de devoluciones.\n",
        "\n",
        "Costo promedio logístico:\n",
        "\n",
        "La curva del grafico de línea coloca a la Tienda 1 nuevamente en\n",
        "\n",
        "desventaja: cada envío le cuesta en promedio 26.018, la cifra más alta del grupo y aproximadamente 2.600 superior a la Tienda 4, la más eficiente con 23.459. La Tienda 2 mantiene un costo razonable de 25.216 y la Tienda 3 con 24.806 se sitúa entre ambas. Un margen de $2.600 pesos aproximados por pedido parece pequeño, pero al cabo del año merma las ganancias y obliga a ajustar precios.\n",
        "\n",
        "Mix de categorías y rotación:\n",
        "\n",
        "El desglose por categorías confirma que la Tienda 1 concentra ingresos en Electrónicos y Electrodomésticos, pero arrastra una larga “cola” de artículos de baja rotación (juguetes especializados, accesorios deportivos menores). Esa dispersión inmoviliza inventario y exige descuentos frecuentes. Por contraste, la Tienda 2 presenta un portafolio equilibrado —Electrónicos, Muebles y Deportes— sin excesos ociosos; la Tienda 3 mantiene balance con ligera preferencia por Muebles, mientras que la Tienda 4 se especializa en electrodomésticos ligeros con buena rotación.\n",
        "\n",
        "Productos top y rezagados:\n",
        "\n",
        "Por otra parte, en cuanto al análisis de venta de las Categorías más y menos vendidas de cada tienda, la Tienda 1 depende casi exclusivamente de Electrónicos y Electrodomésticos, y el resto queda diluido. Los tres artículos que más venden en la Tienda 1 (TV 4K, refrigerador, iPhone 15) concentran gran parte del ingreso; sin embargo, sus tres peores productos apenas alcanzan los $650 000 anuales, evidencia de un inventario que ocupa espacio y capital.\n",
        "\n",
        "Por su parte, la Tienda 2 reparte sus ingresos entre Electrónicos, Muebles y Deportes, sin un “cuello de botella” y la Tienda 3 también es balanceada, con algo más de peso en Muebles. Mostrando segundas líneas de productos que siguen generando montos relevantes, lo que suaviza el riesgo.\n",
        "Por último, la Tienda 4 se especializa sin tanto riesgo porque sus costos logísticos son los más bajos.\n",
        "\n",
        "Conclusión\n",
        "\n",
        "Considerando todos los factores antes mencionados, la recomendación el Sr. Juan es la venta de la Tienda 1. Si bien factura ligeramente más que sus pares, esa ventaja es frágil y viene acompañada de la peor satisfacción del cliente, el mayor costo de envío y un inventario poco eficiente. Las Tiendas 2 y 3 combinan altos ingresos con mejor reputación y costos logísticos controlados, mientras que la Tienda 4, aunque factura menos, destaca por su eficiencia operativa.\n",
        "Vender la Tienda 1 ahora permitiría capitalizar su todavía elevado volumen antes de que la insatisfacción de los clientes y la ineficiencia logística reduzcan su valor de mercado. Con los recursos obtenidos, el Sr. Juan podría reforzar las alianzas con las Tiendas 2 y 3, las cuales se muestran más equilibradas y rentables, o invertir en optimizar los procesos de la red restante.\n"
      ],
      "metadata": {
        "id": "BLbFA5fXMMwp"
      }
    },
    {
      "cell_type": "code",
      "source": [],
      "metadata": {
        "id": "aaDpFvbiSbQn"
      },
      "execution_count": null,
      "outputs": []
    },
    {
      "cell_type": "markdown",
      "source": [
        "El README es un elemento clave en cualquier proyecto de desarrollo, ya que proporciona una descripción clara y detallada del propósito, la estructura y el uso del código.\n",
        "\n",
        "Cuando participas en un proceso de selección, el README es imprescindible para comunicar cómo utilizar el proyecto.\n",
        "\n",
        "Este archivo, con la extensión .md (Markdown), es el punto de referencia inicial para cualquiera que quiera entender y trabajar con su código.\n",
        "\n",
        "Un buen README incluye información sobre la instalación, dependencias, cómo ejecutar el proyecto y posibles problemas o soluciones.\n",
        "\n",
        "Un README bien estructurado facilita que otros desarrolladores comprendan el proyecto.\n",
        "\n",
        "Aquí hay un artículo con los pasos para crear un README increíble:"
      ],
      "metadata": {
        "id": "JwGarbU9SVZe"
      }
    },
    {
      "cell_type": "code",
      "source": [],
      "metadata": {
        "id": "DV7kiBGjSW8y"
      },
      "execution_count": null,
      "outputs": []
    },
    {
      "cell_type": "markdown",
      "source": [
        "Entrega del desafío"
      ],
      "metadata": {
        "id": "O8YYK2C7Sjz8"
      }
    },
    {
      "cell_type": "code",
      "source": [],
      "metadata": {
        "id": "X65CKDEYSl1K"
      },
      "execution_count": null,
      "outputs": []
    }
  ]
}